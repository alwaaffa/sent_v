{
  "nbformat": 4,
  "nbformat_minor": 0,
  "metadata": {
    "colab": {
      "provenance": [],
      "authorship_tag": "ABX9TyPgd6w+B0OHnib55hM3jl2C",
      "include_colab_link": true
    },
    "kernelspec": {
      "name": "python3",
      "display_name": "Python 3"
    },
    "language_info": {
      "name": "python"
    }
  },
  "cells": [
    {
      "cell_type": "markdown",
      "metadata": {
        "id": "view-in-github",
        "colab_type": "text"
      },
      "source": [
        "<a href=\"https://colab.research.google.com/github/alwaaffa/sent_v/blob/main/project11.ipynb\" target=\"_parent\"><img src=\"https://colab.research.google.com/assets/colab-badge.svg\" alt=\"Open In Colab\"/></a>"
      ]
    },
    {
      "cell_type": "code",
      "execution_count": 1,
      "metadata": {
        "id": "HzdebHWyI2_X",
        "colab": {
          "base_uri": "https://localhost:8080/"
        },
        "outputId": "e3d4275b-ff61-42ef-9f46-d39ab8c6ab55"
      },
      "outputs": [
        {
          "output_type": "stream",
          "name": "stdout",
          "text": [
            "Note: to be able to use all crisp methods, you need to install some additional packages:  {'infomap', 'graph_tool', 'wurlitzer', 'leidenalg', 'karateclub'}\n",
            "Note: to be able to use all overlapping methods, you need to install some additional packages:  {'karateclub', 'ASLPAw'}\n",
            "Note: to be able to use all bipartite methods, you need to install some additional packages:  {'leidenalg', 'infomap', 'wurlitzer'}\n"
          ]
        }
      ],
      "source": [
        "from cdlib import algorithms\n",
        "import networkx as nx\n",
        "import pandas as pd\n",
        "\n",
        "\n",
        "import glob\n",
        "import time\n",
        "import matplotlib.pyplot as plt\n",
        "from sklearn.metrics import roc_curve, auc"
      ]
    },
    {
      "cell_type": "markdown",
      "source": [
        "pip install cdlib"
      ],
      "metadata": {
        "id": "tohZCz-n3WyD"
      }
    },
    {
      "cell_type": "code",
      "source": [
        "import community\n",
        "\n",
        "import community.community_louvain\n",
        "#partition = community.community_louvain.best_partition(G)\n",
        "import community as community_louvain\n",
        "from community import community_louvain\n",
        "#partition = community_louvain.best_partition(graph)\n",
        "#self.partition = community_louvain.best_partition(self.graph)\n",
        "\n",
        "#from cdlib import algorithms,NodeClustering,viz\n",
        "#from community import community_louvain\n",
        "#import community as community_louvain\n",
        "#import networkx.algorithms.community as community_louvain\n",
        "import community.community_louvain as community_louvain"
      ],
      "metadata": {
        "id": "qrs6r79FS4WC"
      },
      "execution_count": 2,
      "outputs": []
    },
    {
      "cell_type": "code",
      "source": [
        "from outlier_detector import OutlierDetector"
      ],
      "metadata": {
        "id": "9mprfzrpQ3fK"
      },
      "execution_count": 3,
      "outputs": []
    },
    {
      "cell_type": "markdown",
      "source": [
        "pip install skfeature-chappers"
      ],
      "metadata": {
        "id": "MdLrX7tJRXGV"
      }
    },
    {
      "cell_type": "code",
      "source": [
        "def plot_roc_curve(axis, y_true, y_pred, tag):\n",
        "    \n",
        "    fpr, tpr, _ = roc_curve(y_true, y_pred)\n",
        "    roc_auc = auc(fpr, tpr)\n",
        "\n",
        "    axis.set_xlabel('False Positive Rate')\n",
        "    axis.set_ylabel('True Positive Rate')\n",
        "    title = tag + '\\n AUC = {:.4f}'.format(roc_auc)\n",
        "    axis.set_title(title)\n",
        "    axis.plot(fpr, tpr)"
      ],
      "metadata": {
        "id": "SeGIpxtjRY21"
      },
      "execution_count": 4,
      "outputs": []
    },
    {
      "cell_type": "code",
      "source": [
        "def measure_performance(graph_path, label_path):\n",
        "    graph = nx.read_graphml(graph_path)\n",
        "    graph = graph.to_undirected()\n",
        "    \n",
        "    labels = pd.read_csv(label_path, header=None, sep=';', index_col=0)\n",
        "    labels.index = labels.index.astype(str)\n",
        "    \n",
        "    detector = OutlierDetector(graph)\n",
        "    time1 = time.time()\n",
        "    detector.calculate_anomaly_values()\n",
        "    time2 = time.time()\n",
        "    print('Time: {:.2f} sec'.format(time2 - time1))\n",
        "    \n",
        "    fig, ax = plt.subplots(1, 3, figsize=(15, 3))\n",
        "    prob = detector.get_anomaly_values()\n",
        "    array = pd.concat([labels, prob], axis=1).values\n",
        "    y_true = array[:, 0]\n",
        "    y_pred = array[:, 1]\n",
        "    plot_roc_curve(ax[0], y_true, y_pred, 'ROC for aggregated')\n",
        "    \n",
        "    prob = detector.get_str_anomaly_values()\n",
        "    array = pd.concat([labels, prob], axis=1).values\n",
        "    y_true = array[:, 0]\n",
        "    y_pred = array[:, 1]\n",
        "    plot_roc_curve(ax[1], y_true, y_pred, 'ROC for structure')\n",
        "    \n",
        "    prob = detector.get_atr_anomaly_values()\n",
        "    array = pd.concat([labels, prob], axis=1).values\n",
        "    y_true = array[:, 0]\n",
        "    y_pred = array[:, 1]\n",
        "    plot_roc_curve(ax[2], y_true, y_pred, 'ROC for attribute')\n",
        "    plt.show()"
      ],
      "metadata": {
        "id": "uqaCba21RiUS"
      },
      "execution_count": 5,
      "outputs": []
    },
    {
      "cell_type": "markdown",
      "source": [
        "**Disney dataset**"
      ],
      "metadata": {
        "id": "qxPjpJZtRrJR"
      }
    },
    {
      "cell_type": "code",
      "source": [
        "graph_path = 'data/Disney/Disney.graphml'\n",
        "label_path = 'data/Disney/Disney.true'\n",
        "print('=============')\n",
        "print(graph_path)\n",
        "measure_performance(graph_path, label_path)"
      ],
      "metadata": {
        "colab": {
          "base_uri": "https://localhost:8080/",
          "height": 398
        },
        "id": "M_Ou9GM7Si4p",
        "outputId": "7a8a90cd-31d9-48b0-ae3b-a8fea8f80fa0"
      },
      "execution_count": 8,
      "outputs": [
        {
          "output_type": "stream",
          "name": "stdout",
          "text": [
            "=============\n",
            "data/Disney/Disney.graphml\n"
          ]
        },
        {
          "output_type": "error",
          "ename": "AttributeError",
          "evalue": "ignored",
          "traceback": [
            "\u001b[0;31m---------------------------------------------------------------------------\u001b[0m",
            "\u001b[0;31mAttributeError\u001b[0m                            Traceback (most recent call last)",
            "\u001b[0;32m<ipython-input-8-00f25f2365f9>\u001b[0m in \u001b[0;36m<module>\u001b[0;34m\u001b[0m\n\u001b[1;32m      3\u001b[0m \u001b[0mprint\u001b[0m\u001b[0;34m(\u001b[0m\u001b[0;34m'============='\u001b[0m\u001b[0;34m)\u001b[0m\u001b[0;34m\u001b[0m\u001b[0;34m\u001b[0m\u001b[0m\n\u001b[1;32m      4\u001b[0m \u001b[0mprint\u001b[0m\u001b[0;34m(\u001b[0m\u001b[0mgraph_path\u001b[0m\u001b[0;34m)\u001b[0m\u001b[0;34m\u001b[0m\u001b[0;34m\u001b[0m\u001b[0m\n\u001b[0;32m----> 5\u001b[0;31m \u001b[0mmeasure_performance\u001b[0m\u001b[0;34m(\u001b[0m\u001b[0mgraph_path\u001b[0m\u001b[0;34m,\u001b[0m \u001b[0mlabel_path\u001b[0m\u001b[0;34m)\u001b[0m\u001b[0;34m\u001b[0m\u001b[0;34m\u001b[0m\u001b[0m\n\u001b[0m",
            "\u001b[0;32m<ipython-input-5-fbc3f3b7c8a6>\u001b[0m in \u001b[0;36mmeasure_performance\u001b[0;34m(graph_path, label_path)\u001b[0m\n\u001b[1;32m      6\u001b[0m     \u001b[0mlabels\u001b[0m\u001b[0;34m.\u001b[0m\u001b[0mindex\u001b[0m \u001b[0;34m=\u001b[0m \u001b[0mlabels\u001b[0m\u001b[0;34m.\u001b[0m\u001b[0mindex\u001b[0m\u001b[0;34m.\u001b[0m\u001b[0mastype\u001b[0m\u001b[0;34m(\u001b[0m\u001b[0mstr\u001b[0m\u001b[0;34m)\u001b[0m\u001b[0;34m\u001b[0m\u001b[0;34m\u001b[0m\u001b[0m\n\u001b[1;32m      7\u001b[0m \u001b[0;34m\u001b[0m\u001b[0m\n\u001b[0;32m----> 8\u001b[0;31m     \u001b[0mdetector\u001b[0m \u001b[0;34m=\u001b[0m \u001b[0mOutlierDetector\u001b[0m\u001b[0;34m(\u001b[0m\u001b[0mgraph\u001b[0m\u001b[0;34m)\u001b[0m\u001b[0;34m\u001b[0m\u001b[0;34m\u001b[0m\u001b[0m\n\u001b[0m\u001b[1;32m      9\u001b[0m     \u001b[0mtime1\u001b[0m \u001b[0;34m=\u001b[0m \u001b[0mtime\u001b[0m\u001b[0;34m.\u001b[0m\u001b[0mtime\u001b[0m\u001b[0;34m(\u001b[0m\u001b[0;34m)\u001b[0m\u001b[0;34m\u001b[0m\u001b[0;34m\u001b[0m\u001b[0m\n\u001b[1;32m     10\u001b[0m     \u001b[0mdetector\u001b[0m\u001b[0;34m.\u001b[0m\u001b[0mcalculate_anomaly_values\u001b[0m\u001b[0;34m(\u001b[0m\u001b[0;34m)\u001b[0m\u001b[0;34m\u001b[0m\u001b[0;34m\u001b[0m\u001b[0m\n",
            "\u001b[0;32m/content/outlier_detector.py\u001b[0m in \u001b[0;36m__init__\u001b[0;34m(self, graph)\u001b[0m\n\u001b[1;32m     32\u001b[0m         \u001b[0mself\u001b[0m\u001b[0;34m.\u001b[0m\u001b[0mfeatures\u001b[0m\u001b[0;34m=\u001b[0m\u001b[0;36m0\u001b[0m\u001b[0;34m\u001b[0m\u001b[0;34m\u001b[0m\u001b[0m\n\u001b[1;32m     33\u001b[0m \u001b[0;34m\u001b[0m\u001b[0m\n\u001b[0;32m---> 34\u001b[0;31m         \u001b[0mself\u001b[0m\u001b[0;34m.\u001b[0m\u001b[0mdetect_communities\u001b[0m\u001b[0;34m(\u001b[0m\u001b[0;34m)\u001b[0m\u001b[0;34m\u001b[0m\u001b[0;34m\u001b[0m\u001b[0m\n\u001b[0m\u001b[1;32m     35\u001b[0m \u001b[0;34m\u001b[0m\u001b[0m\n\u001b[1;32m     36\u001b[0m     \u001b[0;32mdef\u001b[0m \u001b[0mdetect_communities\u001b[0m\u001b[0;34m(\u001b[0m\u001b[0mself\u001b[0m\u001b[0;34m)\u001b[0m\u001b[0;34m:\u001b[0m\u001b[0;34m\u001b[0m\u001b[0;34m\u001b[0m\u001b[0m\n",
            "\u001b[0;32m/content/outlier_detector.py\u001b[0m in \u001b[0;36mdetect_communities\u001b[0;34m(self)\u001b[0m\n\u001b[1;32m     39\u001b[0m         \u001b[0;32mand\u001b[0m \u001b[0;32mfrom\u001b[0m \u001b[0mcommunity\u001b[0m \u001b[0mto\u001b[0m \u001b[0mlist\u001b[0m \u001b[0mof\u001b[0m \u001b[0massociated\u001b[0m \u001b[0mnodes\u001b[0m\u001b[0;34m\u001b[0m\u001b[0;34m\u001b[0m\u001b[0m\n\u001b[1;32m     40\u001b[0m         '''\n\u001b[0;32m---> 41\u001b[0;31m         \u001b[0mself\u001b[0m\u001b[0;34m.\u001b[0m\u001b[0mpartition\u001b[0m \u001b[0;34m=\u001b[0m \u001b[0mcommunity_louvain\u001b[0m\u001b[0;34m.\u001b[0m\u001b[0mbest_partition\u001b[0m\u001b[0;34m(\u001b[0m\u001b[0mself\u001b[0m\u001b[0;34m.\u001b[0m\u001b[0mgraph\u001b[0m\u001b[0;34m)\u001b[0m\u001b[0;34m\u001b[0m\u001b[0;34m\u001b[0m\u001b[0m\n\u001b[0m\u001b[1;32m     42\u001b[0m         \u001b[0mself\u001b[0m\u001b[0;34m.\u001b[0m\u001b[0mpart_to_node_dict\u001b[0m \u001b[0;34m=\u001b[0m \u001b[0;34m{\u001b[0m\u001b[0;34m}\u001b[0m\u001b[0;34m\u001b[0m\u001b[0;34m\u001b[0m\u001b[0m\n\u001b[1;32m     43\u001b[0m         \u001b[0;32mfor\u001b[0m \u001b[0mkey\u001b[0m\u001b[0;34m,\u001b[0m \u001b[0mval\u001b[0m \u001b[0;32min\u001b[0m \u001b[0mself\u001b[0m\u001b[0;34m.\u001b[0m\u001b[0mpartition\u001b[0m\u001b[0;34m.\u001b[0m\u001b[0mitems\u001b[0m\u001b[0;34m(\u001b[0m\u001b[0;34m)\u001b[0m\u001b[0;34m:\u001b[0m\u001b[0;34m\u001b[0m\u001b[0;34m\u001b[0m\u001b[0m\n",
            "\u001b[0;31mAttributeError\u001b[0m: module 'community' has no attribute 'best_partition'"
          ]
        }
      ]
    },
    {
      "cell_type": "code",
      "source": [
        "from google.colab import drive\n",
        "drive.mount('/content/drive')"
      ],
      "metadata": {
        "id": "glCCrlVV1T04",
        "colab": {
          "base_uri": "https://localhost:8080/"
        },
        "outputId": "3d490c11-b07a-458a-b951-03f046cb5dcd"
      },
      "execution_count": 7,
      "outputs": [
        {
          "output_type": "stream",
          "name": "stdout",
          "text": [
            "Drive already mounted at /content/drive; to attempt to forcibly remount, call drive.mount(\"/content/drive\", force_remount=True).\n"
          ]
        }
      ]
    }
  ]
}